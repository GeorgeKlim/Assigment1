{
 "cells": [
  {
   "cell_type": "markdown",
   "id": "dbedcf63",
   "metadata": {},
   "source": [
    "# George Klimovich\n",
    "# Assignment 1\n"
   ]
  },
  {
   "cell_type": "code",
   "execution_count": 1,
   "id": "fa837202",
   "metadata": {},
   "outputs": [],
   "source": [
    "import nltk"
   ]
  },
  {
   "cell_type": "code",
   "execution_count": 79,
   "id": "94d4f144",
   "metadata": {},
   "outputs": [],
   "source": [
    "# import a couple other things we'll need\n",
    "import numpy\n",
    "import matplotlib\n",
    "from nltk.probability import FreqDist\n",
    "from nltk.collocations import BigramAssocMeasures, BigramCollocationFinder\n",
    "from nltk.tokenize import word_tokenize\n",
    "from nltk.stem import SnowballStemmer\n",
    "from nltk.tokenize import sent_tokenize"
   ]
  },
  {
   "cell_type": "code",
   "execution_count": 3,
   "id": "017a33f8",
   "metadata": {},
   "outputs": [
    {
     "data": {
      "text/plain": [
       "'/Users/georgeklimovich/GeorgeKlimovichSDAWork'"
      ]
     },
     "execution_count": 3,
     "metadata": {},
     "output_type": "execute_result"
    }
   ],
   "source": [
    "pwd"
   ]
  },
  {
   "cell_type": "code",
   "execution_count": 5,
   "id": "b4a1affd",
   "metadata": {},
   "outputs": [],
   "source": [
    "filePath = \"./news.txt\"\n",
    "\n",
    "with open(filePath, \"r\") as f:\n",
    "    \n",
    "    Text_2 = f.read()"
   ]
  },
  {
   "cell_type": "code",
   "execution_count": 6,
   "id": "27457c54",
   "metadata": {},
   "outputs": [
    {
     "data": {
      "text/plain": [
       "'\\ufeffFrom a distance, you might have mistaken them for teenagers, though they were in late middle age. It wasn’t just the miniskirts and heels on their slim frames, or the ponytails and flaming lipstick, but the girlish way the women held hands, stroked arms, massaged shoulders, smoothed sleeves and straightened bag straps, giddy with affection. Their makeup was heavy, with boldly pencilled brows, and their long hair tinted black or dyed brassy blond – recreating a youth that had never been theirs to enjoy.\\nAuntie Huang was wistful as we watched a couple of students stroll past in the grounds of Chongqing University, green with palms and willows and great thickets of bamboo. We had made ourselves at home in a little pavilion set upon the lake.\\n“Just like today’s young people, I wanted to do many things, like go to university, but I couldn’t,” she told me. “I was 18. I felt there was no hope. We had no hope at all. One person would cry and then everyone would start. It was dejection. Despair.”\\nIn late 1968, the train and bus stations of Chinese cities filled with sobbing adolescents and frightened parents. The authorities had decreed that teenagers – deployed by Mao Zedong as the shock troops of the Cultural Revolution – were to begin new lives in the countryside. A tide of youth swept towards impoverished villages. Auntie Huang and her friends were among them. Seventeen million teenagers, enough to populate a nation of their own, were sent hundreds of miles away, to places with no electricity or running water, some unreachable by road. The party called it “going up to the mountains and down to the countryside”, indicating its lofty justification and the humble soil in which these students were to set down roots. Some were as young as 14. Many had never spent a night away from home.\\nThese educated urban youth were to be reeducated. Their skills and knowledge would drag forward villages mired in poverty and ignorance, improving hygiene, spreading literacy, eradicating superstitions. But the peasantry’s task, in turn, was to uproot a more profound form of ignorance: the urban elite’s indifference to the masses. Mao had seized on the rural poor as the engine of revolution, bringing the Communist party to power. Now they were to remake this young generation – teaching them to live with nothing, to endure, even love, the dirtiest labour; to not merely sacrifice but efface themselves for the greater good. The reformed teenagers would bear his revolution to its ultimate triumph: a country whose society and culture were as communist as its political system.\\n“At the very beginning we were all idealistic. We wanted to make a difference to the countryside,” Auntie Huang recalled. But the villages were filthy and desolate, and the bone-thin peasants were unimpressed by the newcomers’ theories for grand improvements. The educated youth had been urged to remake the world; they began to wonder if they could change anything. Some of the farmers were openly hostile, and even the kindly ones grew exasperated. They didn’t need the extra hands, and didn’t want extra mouths to feed. These kids, for all their books and ideas, were slow and clumsy, had no feel for tools or land, wasted seed and couldn’t seem to manage moderate loads or uncomplicated tasks. Income was disbursed not according to need but to work contributions; the teenagers struggled to earn the points they needed to feed themselves, and the labour left them bruised and blistered. Many found that initial extra rations soon disappeared when drought set in, leaving them surviving on corn husks, as the peasants did. At first they might be billeted with families, but mostly they were packed together wherever room could be made: in old grain silos, toolsheds or shacks they built themselves, which “often resembled stables or even pigsties more than houses”, as the sinologist Michel Bonnin records in his book Lost Generation.\\nIt is hard to imagine the relief when they finally put these painful years behind them. And yet, four decades later, Auntie Huang and her friends met up each week to play mahjong, eat hotpot, dance and most of all, to reminisce about those bitter days. I had encountered them by chance, as they rehearsed their steps in a park one afternoon. I had assumed they were all old friends, but in fact they had met online, drawn together solely by their experience of rustication. For the Educated Youth Friendship Group (I have altered its name, like those of its members, at their request) those years of struggle were their “spiritual wealth”, said Auntie Gu.\\n“We’re proud of being educated youth; it was something unprecedented,” she told me. “We know that nothing like it will happen in future.”\\n________________\\n\\n\\nThese were the children of the Cultural Revolution, unleashed by Mao Zedong in 1966 and ending only after his death 10 years later: a decade of turmoil, violence and stagnation. The movement was an emperor’s ruthless assertion of power, launched to destroy all opposition in the party after the disaster of the Great Leap Forward – his breakneck industrialisation campaign and collectivisation of agriculture, which had led to a catastrophic famine that killed as many as 45 million. But it was also a crusade to reshape hearts and souls as he had transformed China’s politics and economy.\\nTo do so he employed the Red Guards, young political vigilantes – many in their early teens – who attacked teachers and scholars and destroyed cultural treasures. An estimated 2 million people would die, including Mao’s two heirs apparent, and some of China’s greatest artists and thinkers. As the violence rippled out, militias would take the lives of entire families, including infants, in remote rural areas. Accidents of birth, such as having a relative classed as a landlord or living abroad, could be as deadly as supposed political crimes. Tens of millions more people would be hounded. In Chongqing, the south-western city home to Auntie Huang and her friends, fighting between Red Guard groups descended into warfare. They had not played leading roles in that intense violence, but no one could escape it entirely: the factions, making full use of the city’s multiple munitions plants, battled with heavy weaponry and tanks – everything except planes, one resident told me.\\nBut by late 1968, Mao had reasserted absolute authority and even he was tired of the chaos. The military reined in the Red Guards, in some cases by force. With universities and even schools still mostly closed and urban unemployment high, young people were left with little to do but look for trouble: hooliganism and, as one newspaper fretted, things that “do not lead to socialism”. Dispatching them to the countryside was a supremely pragmatic decision.\\nFor the most part, the authorities today do not speak of the Cultural Revolution. The exile of the educated youth is the one aspect that is remembered in official discourse, even celebrated. Among their number was Xi Jinping: now China’s most powerful leader since Mao, but at that time, the adolescent son of a disgraced senior official, Xi Zhongxun. Propaganda has stressed how the leader grew and matured through his years in the countryside, but in truth the lessons he took from his family’s suffering appear more complex and ambiguous. When Xi Zhongxun and other party elders were rehabilitated after Mao’s death, they attempted to ensure that strongman rule could never return. They institutionalised and collectivised power: pursuing consensus and adopting unwritten rules such as term limits. Yet his son has dismantled the very changes designed to safeguard the party and country against a repeat of Maoism’s disasters.\\nXi Jinping concluded, it seems, that stabilising China – and securing his own future – required not the dilution or containment of power, but its intensification. He is by no means Mao: most obviously, he has no taste for disorder. His country is far more educated, sophisticated and cynical. Yet he has concentrated power to an extraordinary degree. Late last year, at the party congress, he embarked upon indefinite rule with a norm-busting third term as general secretary.\\nIn an age of increased repression, few air their concerns. But as the party congress opened in October, a lonely figure protested in Beijing: among the demands on his banners was “Reform, not the Cultural Revolution”. That call was taken up by others at the remarkable protests against the zero-Covid policy that swept through cities weeks later. The echoes of the past have not gone unnoticed.\\n________________\\n\\n\\nIt is impossible to understand China without understanding the Cultural Revolution. It shapes the country’s politics, economy and culture; its scar runs through the heart of society, and the soul of its citizens. It is the pivot between socialist utopianism and capitalist frenzy, between merciless uniformity and pitiless individualism. Its end marked the decisive turn away from Maoism, so thoroughly discredited by the toll it had taken. Its radicalism arguably birthed the pro-reform and democracy movement of the 1980s, culminating in the Tiananmen Square protests, but also contributed to the bloody crackdown that ended it. It has shaped unhappy families, the expectations of romantic love, the grasping for money, both bitterness and hope. It was the defining moment for the country. Subtract it and today’s China makes no sense: it is Britain without its empire, the US without the civil war.\\nUnfortunately, it is also impossible to fully understand the movement. Mao’s erratic nature, changing tactics and deliberately cryptic pronouncements; the political intrigues at the top of the party; clashing interests and motives at all levels of the movement, including petty grudges and banal ambition; the many stages through which it passed; its sheer scale – each one would make it hard to decipher. Together, they make it in many ways incomprehensible. (Even China’s supposed ideological brethren struggled to make sense of this mess: North Korean officials derided it as “a great madness, having nothing in common with either culture or a revolution”.)\\nIn parts it looks similar to the terrible genocides of the 20th century, though in China people killed their own kind – the line between victims and perpetrators shifted moment by moment. In some regards it echoes Stalinist purges, but with enthusiastic mass participation. Unlike other tragedies under the Chinese Communist party, it was all-encompassing. No workplace remained untouched. No household remained innocent. “Complicity” is too small a word – comrade turned on comrade, friend upon friend, husband upon wife and child upon parent. Such intimate treacheries and abrupt reversals rent the very fabric of China, Confucian ideals of family obedience and newer communist pledges of fraternity.\\nYet this era, which forged modern China, exists today largely as an absence. In the past it was discussed more widely, although never freely. Accounts of its horrors helped to justify the turn away from socialist orthodoxy to the market. Over time, fear, guilt and official suppression have pushed it into the shadows.\\nFor Chinese rulers, history has often functioned as moral primer rather than archive. Even from its earliest days in power, the party understood that its rule depended not only on the promise of a better future, but also on a shared understanding of that pledge’s contrast with previous misery. It built twin Museums of Chinese History and the Chinese Revolution, and urged workers and peasants to “recall past bitterness and cherish present happiness”. Over time, the invocation of a historical mission – overthrowing foreign oppression, and returning China to greatness – has become louder and shriller, notably as economic growth has slowed. Xi has proved especially attuned to the past, invoking the warning of an ancient scholar that “to destroy a country, you must first destroy its history”. The party has been warned that “historical nihilism” is an existential peril on a par with western democracy.\\nBurnishing the party’s version of the past required forgetting as well as remembering. The official verdict on the Cultural Revolution was overseen by Deng Xiaoping, who was purged twice but subsequently became paramount leader and led China’s transformation. It acknowledged that the movement had caused “the most severe setback and the heaviest losses” since the party’s ascent to power. It stated that it was “initiated by a leader labouring under a misapprehension and capitalised on by counter-revolutionary cliques”. (It was worse than a crime, then – it was a mistake). But no one was supposed to dwell on the suffering. Deng wanted to draw a line beneath it, telling those drafting the judgment that the aim was “to lead people to unite and look ahead”.\\nYet some people persisted in looking back, and their numbers grew as the Red Guard generation aged. The Chongqing Educated Youth Friendship Group were unabashedly patriotic, and voluble in their admiration and support for China’s leaders. But their memories were not always so obliging. It was not simply nostalgia that drew them together, but ambivalence.\\n________________\\n\\n\\nThe first wave of memoirs and novels by former educated youth, from the late 70s onwards, attacked the pointlessness and hopelessness of rustication. (For the party, this “scar literature” had its uses, confirming the wisdom of their turn from Mao to market.) But just as the squalor of a run-down hamlet can appear picturesque from a distance, so rural exile began to look wholesome, even life-affirming, as it receded. In the early 90s, the Museum of the Chinese Revolution in Beijing held an exhibition of photos, reminiscences and mementoes of daily life from the Educated Youth. It drew 150,000 visitors in a fortnight, sparking similar shows and a fashion for reminiscence. Groups organised sentimental returns to villages. Tourist agencies cashed in.\\nIt is not coincidence, perhaps, that the turn to the past came just after the massacre of 1989 had destroyed a compelling vision of China’s future and as mass layoffs caused by the restructuring of state-owned enterprises threw into doubt the sense of identity of many former educated youth. Nor that it thrived as China grew more consumerist, individualist, competitive and unpredictable. The sociologist Guobin Yang, analysing this shift, noted that it “contrasts a past viewed as containing beauty, meaning, and purpose with a present increasingly dominated by economic inequality and instrumental rationality”. And as this yearning for what had passed grew, the party began to discern its potency. Nostalgia for the hard times is not unique to China. But while the details of brutal murders have been buried, the story of the sent-down youth has become more prominent. Rustication was severed from its roots in fanaticism and repackaged as fresh air, comradeship and honest toil.\\nXi’s creation myth is the story of his seven years in Liangjiahe, a village in north-western Shaanxi province, where he lived in a narrow, musty cave house carved out of the hillside. For him, it perhaps felt as much like escape as punishment. His father had already been purged, and Xi, too, had come under attack by Red Guards; friends say Xi’s own mother was forced to denounce her son. His half-sister reportedly killed herself, after years of political pressure.\\n“If I did not go I don’t even know if I would live or die [in Beijing], so isn’t leaving a good thing?” he once recalled.\\nXi grew into manhood, hauling coal carts, building dykes and farming corn and potatoes. He endured the fleas, the biting cold, the monotonous diet and still more monotonous labour. He read books while herding sheep, or late into the night, cutting short his sleep. He helped the farmers to develop the place, reinforcing the riverbank to stop erosion. His exemplary dedication earned him the title of a Model Youth. He is said to have exchanged his prize – a motorised tricycle – for farming equipment to help the villagers. Even the local party secretary turned to him for advice. When he returned to Liangjiahe as China’s leader, in 2015, he portrayed the little village on the ochre-coloured Loess plateau as the place where his life had truly begun. “When I arrived at the Yellow Earth, at 15, I was anxious and confused,” Xi has written. “When I left the Yellow Earth, at 22, my life goals were firm and I was filled with confidence.”\\nHis ascension turned Liangjiahe into an attraction. Thousands of visitors – mostly officials – came to inspect his old home and admire a well he had dug. The story testified to Xi’s grit, his discipline and his humility. His service emphasised his impeccable heritage, echoing his father’s revolutionary labours; it also proved that he was one of the masses. He had suffered, and he had risen above it.\\nIn early interviews he had been more candid; over time, the official version lost awkward details. It wasn’t by chance that Xi found himself in an area where people remembered his father fondly and were inclined to look out for him. Nor was it so surprising that they called upon him with their problems; he was more likely to know someone who could help. While state media described how Xi could carry almost 100kg of wheat, villagers recalled the future leader sliding downhill on his bottom as he struggled to carry the pails that they shouldered easily.\\nBut however you told it, the story was potent in an age where the gulfs between town and country, rulers and ruled, had expanded so fast, and where corruption was treated as a matter of course. It turned rural adversity into a triumph of communist spirit and discipline, in striking contrast to the lavish lifestyles that the party elite had come to enjoy. It emphasised that the leader understood what it was to struggle. It was also true. Xi had worked and studied hard; people seem to have liked and respected him. His experiences had given him a visceral understanding of the harshness of life at the bottom of society that few young people – or western leaders – could appreciate. Important as his privileges were, they could only temper the draining conditions and relentless graft. He remembered the shock of manure in the face as he cleared a blocked pipe. The food was bad and there was never enough of it, rest was scarce yet boredom rife. In the first few months, he and the villagers struggled to even understand each other’s speech. It was a lonely life.\\n________________\\n\\n\\nAuntie Gu’s tender nature won over classmates and neighbours. She helped to harvest crops for an old widow neglected by her children. She and her friends taught village kids and put on musical shows for the farmers. There were moments of happiness and even amity. Yet cultures clashed. Farmers were shocked to see girls and boys out for walks together, however innocently, and disturbed as their influence rubbed off on village youths. Maoist puritanism, dismissing romance as a bourgeois snare, looked liberal beside the deep conservatism in parts of the countryside. “If country boys and girls were in relationships, they wouldn’t dare to look in each other’s eyes,” said Auntie Huang.\\nBut the city girls, naive and far from their families, were easy prey for men. Often the victims took the blame – they were educated urbanites, while their rapists, being poor peasants or local officials, ranked higher in political class, which was as much a moral status as a social one. Malicious or obstructive officials had so many ways to make you suffer: refusing rations, assigning the worst jobs or accusing you of political crimes.\\nOne of Auntie Huang’s classmates, sent down at 14, died in jail after he was accused of joining an anti-party organisation, in one of the era’s many paranoid campaigns. She lost another friend whose serious illness was dismissed as just a cold. Weakened by overwork and malnutrition, many succumbed to malaria, pneumonia and other diseases. Thousands more died “unnatural” deaths, usually in work accidents. Propaganda celebrated these pointless sacrifices, spurring children on to fresh acts of futility: one Shanghai teenager was lauded as a martyr for drowning as he tried to save wooden poles from a flood. A poster shows him amid the waves, head high and arm raised as he shouts a final exhortation back to watching comrades.\\nLooking back, the educated youth group mourned the missing friends, the lost years and the hardship, but they also saw the suffering as the real point of it all. They spoke of the era as veterans might talk of a war to younger men born too late to fight: with regret and sometimes scorn or anger, and disbelief that they had gone through it, but also with an unmistakable tinge of superiority. It had made them braver, stronger, more capable. They understood something no one else could, that no one ever would again.\\n________________\\n\\n\\nXi Jinping returned to Beijing in 1975, later than many of his peers, but to a plum position: as a student at a reopened university. Access was determined by political credentials. His family connections were presumably key, and he had managed to join the party after multiple rejections. But for most it took luck, ingenuity and an unyielding drive to escape the countryside. One of Auntie Gu’s classmates seduced a married man who was labouring alongside them, knowing that his long years in the army would allow him to settle in the city. He won permission to divorce his wife and then married the younger woman, leaving the countryside with her. “Then, not long after that, all the educated youth could go back. So she regretted it,” recalled Auntie Gu.\\nAuntie Huang had faced a dilemma of her own. Marriage in the villages drastically reduced your odds of finding a route home, but she and her prospective husband concluded they had little to lose – neither had the kind of worker, peasant or soldier credentials needed to get out anyway. They wed in the early 70s, and their son arrived soon after. When her home town needed workers a year or so later, she and her son had to go alone. It would be four more years before her husband could join them.\\nAt first there were only a few ways to return to the cities. Solidarity fractured as youths competed for rare chances to escape the villages, such as jobs and university places. Bribes to an official or slandering a rival offered better odds than diligence alone. Girls were pressured to pay for their route home with sex. Some children were so desperate they injured themselves, hoping they would be allowed to go back on health grounds.\\nFrom 1975 the rate of returns picked up, though more than 2 million teenagers arrived in the countryside that year. Desperation slowly coalesced into mass resistance and, by 1978, open protest: educated youth began striking, demonstrating, writing pamphlets and occupying premises, demanding to go home. Their experience had toughened them – they knew they had to fight to get anywhere. Two years later, officials axed the rustication scheme, leaving almost a million mired in the countryside, by now married and with children, or defeated by their circumstances.\\n“It wasn’t easy when we came back, to fight our way back into city life,” said Auntie Huang. “We were not so young any more. We hadn’t had much education. Some of us had family and had to feed them at the same time as trying to learn the skills, working skills, to survive.”\\nThey had suffered in the countryside for years; now they found they had little to offer the cities either. They had lost not only their sense of purpose but their opportunities. Competition for academic places was so fierce after the years of closures that only the most brilliant and determined got their chance. Younger, more polished potential employees were emerging from the schools. Some returnees took up casual low-skilled labour. The desperate resorted to sex work and crime. Others found that the hardship had fired them up. They became entrepreneurs, seizing upon economic reforms propelled in part by the authorities’ need to do something with them.\\nIt didn’t strike the Chongqing group as curious that they now spent so much time dwelling on the place they had fought so hard and so long to escape. Those years of misery defined them, standing for self-sacrifice, community and grit. They had earned their homes, their restaurant dinners, their lipsticks and frilled sweaters. Their story was validated by their leader, who had struggled with them. While other parts of the Cultural Revolution were stamped down out of sight, deep into the mud of the past, this was elevated as part of the national story.\\n“It’s only because the decades have passed that we think about the good things when we recall it. At the time it was all very painful,” acknowledged Auntie Huang. “Life was so miserable – words cannot describe it. A lot of people can’t even tell others how miserable their experiences were. But people feel they need to pass on the spirit.”\\nIt had meaning to them? It wasn’t, as some thought, just a waste of their best years, time stolen from them?\\n“Yes, I wonder that!” She seized the question. “I can’t decide. It was time wasted. But when I remember, it was like a treasury for me in some ways. I can’t say I don’t regret the experience. But I can’t say I’m ungrateful either. It’s something you can’t do anything about.”\\nShe thought for a moment more and brightened: “The best part was that we went through so many hardships when we were young that hardships we met later seemed like nothing.”\\nIt echoed Xi’s conclusion: “Nothing could be so hard as that.”\\nIt was her smile that undid me.\\nA Chinese spy balloon “drifted past Hawaii and across Florida” as it “circumnavigated the globe” in 2019, four years before the American military shot down another one this past weekend, according to a US air force intelligence report reviewed by CNN.\\nChina “launched and controlled” the high-altitude balloon, which was “capable of operating at “65,000 ft – 328,000 ft and for months at a time”, in 2019, according to the report seen by CNN. The report did not make clear when the US became aware of the 2019 balloon.\\nNews of the intelligence report comes amid heightened tensions between the US and China and partisan squabbling among US politicians over a Chinese high-altitude balloon that traversed the US before being shot down over the Atlantic Ocean on Sunday.\\nThe US secretary of state, Antony Blinken, postponed a planned trip to Beijing after the balloon was spotted. China – which claims the balloon was engaged in weather observation and had been blown off course – called the US’s response “unacceptable and irresponsible”.\\nThe domestic political row has focused on when the US became aware of China’s use of high-altitude balloons.\\nAfter Republican politicians criticized the Joe Biden White House for not immediately shooting the balloon down, Pentagon officials said that China had sent three balloons over US territory during Donald Trump’s time in the Oval Office. Trump and his former defense secretary Mark Esper denied knowledge of such cases, and a Biden administration official told CNN that the incidents were only discovered after Biden took office.\\nThe US military had a “domain awareness gap” around high-altitude balloons that prevented it from detecting the incursions at the time, the general Glen VanHerck, the commander of North American Aerospace Defense Command (Norad), told reporters Monday. VanHerck said that the intelligence community used “additional means of collection” to discover the flights “after the fact” but did not provide further detail.\\nThe national security adviser Jake Sullivan said Monday that improvements to the US’s surveillance capabilities made under Biden had “enhanced our capacity to be able to detect things that the Trump administration was unable to detect”.\\n“We were able to go back and look at the historical patterns,” Sullivan said, which revealed “multiple instances” of Chinese balloons entering US airspace during the Trump administration.\\nThe US navy is using unmanned underwater vehicles to locate sunken debris from the balloon, which VanHerck said was scattered in an area measuing about 1500m by 1500m, with water about 50ft deep. The FBI and the Naval Criminal Investigative Service are participating in the efforts to collect the debris.\\nThe spokesperson for China’s foreign ministry, Mao Ning, said Tuesday that Beijing will “resolutely safeguard its legitimate rights and interests” over the destruction of the balloon. Maro also said that the balloon “belongs to China,” the AP reported.\\n“The balloon does not belong to the US,” Mao said at a daily briefing.\\nThe Pentagon said the first bits of debris had been found on the ocean surface off the South Carolina coast, while work continued to find the bits and pieces that had sunk to the sea bed. It called on the public to report any fragments that washed up on shore.\\nThe White House national security spokesperson, John Kirby, said the United States was able to study the balloon while it was flying and officials hope to glean valuable intelligence on its operations by retrieving as many components as possible.\\nThe head of North American Aerospace Defence (Norad) Command, General Glen VanHerck, described the balloon as being 200 feet (61 metres) high, with a surveillance payload the size of a regional passenger jet.\\nWhen it was first spotted passing over the US Aleutian Islands, the general said he decided not to shoot it down.\\n“It was my assessment that this balloon did not present a physical military threat to North America – this is under my Norad hat – and therefore, I could not take immediate action because it was not demonstrating hostile act or hostile intent,” VanHerck told reporters.\\nHe said the aircraft was able to manoeuvre to some extent by taking advantages of different wind directions at different altitudes, and that the balloon’s route appeared to have been deliberately planned to navigate those currents.\\nChina has claimed the aircraft was a weather balloon that had been blown off course. The country’s vice-foreign minister, Xie Feng, lodged a formal complaint with the US embassy on Sunday over the incident, accusing Washington of overreacting to an accident “caused by force majeure”, according to a statement posted on the Chinese foreign ministry website.\\n“The facts are clear … but the United States turned a deaf ear and insisted on indiscriminate use of force against the civilian airship that was about to leave the United States airspace. It obviously overreacted and seriously violated the spirit of international law and international practice,” Xie was quoted as saying.\\nHe accused Washington of “dealing a serious blow” to efforts and progress in stabilising China-US relations since Joe Biden’s summit with Xi Jinping in November.\\n“China resolutely opposes and strongly protests this, and urges the US to refrain from taking further actions to harm China’s interests and to escalate tensions,” he said.\\nVanHerck said that an amphibious dock landing ship, the USS Carter Hall, would serve as the command vessel for the debris search, and that a navy oceanographic vessel was mapping below the surface to search for debris.\\nRough seas have hindered the search, but he said navy divers on rigid inflatable boats had begun work on Monday morning with the help of unmanned underwater vehicles, and that by the afternoon, more would be known about the location of large pieces of submerged debris.\\nThe incident came amid tensions over issues including Taiwan, trade and human rights. It also prompted Antony Blinken, the US secretary of state, to postpone a visit to Beijing.\\nOn Monday, the Chinese foreign ministry spokesperson Mao Ning said the incident tested “the US’s sincerity in stabilising and improving Sino-US relations”.\\nShe said: “The US deliberately exaggerated and hyped [the incident] and even used military force to attack. This is unacceptable and irresponsible.”\\nShe also admitted that the balloon spotted over Latin America belonged to China but said it was a civilian airship used for flight tests that entered the airspace of Latin America and the Caribbean “by accident”.\\nYoshihiko Isozaki, the Japanese deputy chief cabinet secretary, said on Monday that a flying object thought to be Chinese and similar to the one shot down by the US, had been spotted at least twice over northern Japan since 2020, the Associated Press reported.\\nChina has previously objected when foreign military surveillance planes flew off its coast in international airspace. In 2001, a US navy plane conducting routine surveillance near the Chinese coast collided with a Chinese fighter plane, killing the Chinese fighter pilot and damaging the American plane, which was forced to make an emergency landing at a Chinese naval airbase on the southern island of Hainan. China detained the 24-member US navy aircrew for 10 days until the US expressed regret.\\nProf William Hurst, the deputy director at the Centre for Geopolitics at the University of Cambridge, said the balloon incident had occurred in a much more negative climate than the spy plane incident. “The public revelation complicated domestic politics in the US, which were already fraught,” he said. “Its effect will likely be smaller, but take longer to unwind.”\\nVanHerck, the Norad chief, said the military had not detected previous spy balloons before this one and called it an “awareness gap.”\\nHowever, he said US intelligence determined previous flights after the fact based on “additional means of collection” of intelligence.'"
      ]
     },
     "execution_count": 6,
     "metadata": {},
     "output_type": "execute_result"
    }
   ],
   "source": [
    "Text_2"
   ]
  },
  {
   "cell_type": "markdown",
   "id": "21001cad",
   "metadata": {},
   "source": []
  },
  {
   "cell_type": "markdown",
   "id": "f0d1c302",
   "metadata": {},
   "source": [
    "# Longest Sentence"
   ]
  },
  {
   "cell_type": "code",
   "execution_count": 72,
   "id": "d79567d0",
   "metadata": {},
   "outputs": [
    {
     "name": "stdout",
     "output_type": "stream",
     "text": [
      "6475\n"
     ]
    }
   ],
   "source": [
    "words = nltk.word_tokenize(Text_2)\n",
    "length = len(words)\n",
    "\n",
    "print(length)\n"
   ]
  },
  {
   "cell_type": "markdown",
   "id": "f7bf7ff9",
   "metadata": {},
   "source": [
    "# Lexical Diversity"
   ]
  },
  {
   "cell_type": "code",
   "execution_count": 73,
   "id": "0860165c",
   "metadata": {},
   "outputs": [],
   "source": [
    "def lexical_diversity(Text_2):\n",
    "    return len(set(Text_2))/len(Text_2)"
   ]
  },
  {
   "cell_type": "code",
   "execution_count": 74,
   "id": "1e2f7fda",
   "metadata": {},
   "outputs": [
    {
     "data": {
      "text/plain": [
       "0.002406345622530525"
      ]
     },
     "execution_count": 74,
     "metadata": {},
     "output_type": "execute_result"
    }
   ],
   "source": [
    "lexical_diversity(Text_2)"
   ]
  },
  {
   "cell_type": "markdown",
   "id": "68609cc0",
   "metadata": {},
   "source": [
    "# The Longest Sentence"
   ]
  },
  {
   "cell_type": "code",
   "execution_count": 75,
   "id": "fbcc80c1",
   "metadata": {},
   "outputs": [
    {
     "name": "stdout",
     "output_type": "stream",
     "text": [
      "Mao’s erratic nature, changing tactics and deliberately cryptic pronouncements; the political intrigues at the top of the party; clashing interests and motives at all levels of the movement, including petty grudges and banal ambition; the many stages through which it passed; its sheer scale – each one would make it hard to decipher.\n",
      "62\n"
     ]
    }
   ],
   "source": [
    "#longest sentence \n",
    "sentences = nltk.sent_tokenize(Text_2)\n",
    "longsen = (max(sentences, key=len))\n",
    "senwords = nltk.word_tokenize(longsen)\n",
    "length = len(senwords)\n",
    "\n",
    "print(longsen)\n",
    "print(length)"
   ]
  },
  {
   "cell_type": "markdown",
   "id": "4d841b3c",
   "metadata": {},
   "source": [
    "# Top Collocations"
   ]
  },
  {
   "cell_type": "code",
   "execution_count": 76,
   "id": "7c86987a",
   "metadata": {},
   "outputs": [
    {
     "name": "stdout",
     "output_type": "stream",
     "text": [
      "('’', 's')\n",
      "(',', 'the')\n",
      "('.', 'The')\n",
      "('of', 'the')\n",
      "('.', 'It')\n",
      "(',', 'and')\n",
      "('.', '“')\n",
      "('’', 't')\n",
      "(',', 'but')\n",
      "('in', 'the')\n"
     ]
    }
   ],
   "source": [
    "token = nltk.word_tokenize(Text_2)\n",
    "finder = BigramCollocationFinder.from_words(token)\n",
    "scorer = BigramAssocMeasures.raw_freq\n",
    "N = 10\n",
    "top_collocations = finder.nbest(scorer, N)\n",
    "\n",
    "for collocation in top_collocations:\n",
    "    print(collocation)\n"
   ]
  },
  {
   "cell_type": "code",
   "execution_count": 86,
   "id": "8a71ef36",
   "metadata": {},
   "outputs": [
    {
     "name": "stdout",
     "output_type": "stream",
     "text": [
      "[('and', 171), ('a', 95), ('as', 67), ('at', 25), ('an', 20), ('after', 14), ('also', 11), ('all', 10), ('about', 6), ('away', 4)]\n",
      "[('even', 12), ('educated', 11), ('escape', 5), ('each', 4), ('early', 4), ('extra', 3), ('experience', 3), ('either', 3), ('era', 3), ('economic', 3)]\n",
      "[('in', 74), ('it', 49), ('its', 20), ('is', 18), ('into', 10), ('intelligence', 6), ('incident', 6), ('including', 4), ('interests', 3), ('international', 3)]\n",
      "[('of', 135), ('on', 33), ('or', 22), ('one', 16), ('over', 11), ('only', 8), ('official', 7), ('officials', 7), ('out', 6), ('other', 6)]\n",
      "[('upon', 7), ('up', 7), ('under', 5), ('university', 3), ('urban', 3), ('use', 3), ('understand', 3), ('understanding', 3), ('understood', 3), ('used', 3)]\n"
     ]
    }
   ],
   "source": [
    "def top10(myList,vowel):\n",
    "# top ten words with each vowel\n",
    "    myResult = []\n",
    "    for index in myList:\n",
    "       isVowel = False\n",
    "       for element in vowel:\n",
    "          if index.startswith(element):\n",
    "             isVowel = True\n",
    "             break\n",
    "       if isVowel:\n",
    "          myResult.append(index)\n",
    "#frequency\n",
    "    fdist = FreqDist(myResult)\n",
    "    print(fdist.most_common(10))\n",
    "    \n",
    "myList = nltk.word_tokenize(Text_2)\n",
    "top10(myList,\"a\")\n",
    "top10(myList,\"e\")\n",
    "top10(myList,\"i\")\n",
    "top10(myList,\"o\")\n",
    "top10(myList,\"u\")"
   ]
  },
  {
   "cell_type": "code",
   "execution_count": 80,
   "id": "15cf7b12",
   "metadata": {},
   "outputs": [
    {
     "name": "stdout",
     "output_type": "stream",
     "text": [
      "The stemmed version of the longest sentence is:\n",
      "mao ’ s errat natur , chang tactic and deliber cryptic pronounc ; the polit intrigu at the top of the parti ; clash interest and motiv at all level of the movement , includ petti grudg and banal ambit ; the mani stage through which it pass ; it sheer scale – each one would make it hard to deciph .\n"
     ]
    }
   ],
   "source": [
    "sentences = nltk.sent_tokenize(Text_2)\n",
    "# Find the longest sentence\n",
    "longest_sentence = max(sentences, key=len)\n",
    "\n",
    "# Tokenize the longest sentence into words\n",
    "words = nltk.word_tokenize(longest_sentence)\n",
    "\n",
    "# Stem the words\n",
    "stemmer = SnowballStemmer(\"english\")\n",
    "stemmed_words = [stemmer.stem(word) for word in words]\n",
    "\n",
    "# Join the stemmed words to form the stemmed sentence\n",
    "stemmed_sentence = \" \".join(stemmed_words)\n",
    "\n",
    "print(\"The stemmed version of the longest sentence is:\")\n",
    "print(stemmed_sentence)"
   ]
  },
  {
   "cell_type": "code",
   "execution_count": null,
   "id": "2788319e",
   "metadata": {},
   "outputs": [],
   "source": []
  }
 ],
 "metadata": {
  "kernelspec": {
   "display_name": "Python 3 (ipykernel)",
   "language": "python",
   "name": "python3"
  },
  "language_info": {
   "codemirror_mode": {
    "name": "ipython",
    "version": 3
   },
   "file_extension": ".py",
   "mimetype": "text/x-python",
   "name": "python",
   "nbconvert_exporter": "python",
   "pygments_lexer": "ipython3",
   "version": "3.9.13"
  }
 },
 "nbformat": 4,
 "nbformat_minor": 5
}
